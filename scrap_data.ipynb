{
 "cells": [
  {
   "cell_type": "code",
   "execution_count": 3,
   "metadata": {},
   "outputs": [],
   "source": [
    "import praw\n",
    "import pandas as pd\n",
    "from tqdm import tqdm\n",
    "from multiprocessing import Pool\n",
    "import datetime as dt\n",
    "import os\n",
    "import praw\n",
    "from psaw import PushshiftAPI"
   ]
  },
  {
   "cell_type": "markdown",
   "metadata": {},
   "source": [
    "First find all the already extracted files to prevent extra work"
   ]
  },
  {
   "cell_type": "code",
   "execution_count": 4,
   "metadata": {},
   "outputs": [],
   "source": [
    "already_files = os.listdir('data')"
   ]
  },
  {
   "cell_type": "markdown",
   "metadata": {},
   "source": [
    "Function to extract data for specific year and month"
   ]
  },
  {
   "cell_type": "code",
   "execution_count": 8,
   "metadata": {},
   "outputs": [],
   "source": [
    "def extract(times):\n",
    "    year,month = times\n",
    "    \n",
    "    # return if data is already present\n",
    "    if 'data_'+str(year)+'_'+str(month)+'.csv' in already_files:\n",
    "        return\n",
    "    \n",
    "    # create a reddit instance with all the credentials\n",
    "    reddit = praw.Reddit(\n",
    "    client_id=\"lvMebPoBq4Am77B71uC3Pw\",\n",
    "    client_secret=\"_vZg-umYkXpIRZoI_klQP3eYHDqOVA\",\n",
    "    password=\"argumentgate\",\n",
    "    user_agent=\"testscript by u/fakebot3\",\n",
    "    username=\"SaanJatt1\",)\n",
    "    \n",
    "    api = PushshiftAPI(reddit)\n",
    "    \n",
    "    # find the start and end time for extraction\n",
    "    start_epoch=int(dt.datetime(year, month, 1).timestamp()) \n",
    "    if month == 12:\n",
    "        end_epoch = int(dt.datetime(year + 1, 1, 1).timestamp()) \n",
    "    else:\n",
    "        end_epoch = int(dt.datetime(year, month+1, 1).timestamp())  # Could be any date\n",
    "\n",
    "    # extract all submissions for this specific time period\n",
    "    submissions_generator = api.search_submissions(after=start_epoch,before=end_epoch, subreddit='changemyview', limit=10000) # Returns a generator object\n",
    "    submissions = list(submissions_generator) # You can then use this, store it in mongoDB, etc.\n",
    "    \n",
    "    print(\"Submissions done for \",year,\" len is \",len(submissions))\n",
    "\n",
    "    # extract comments for each submission extracted\n",
    "    submissions_data = []\n",
    "    for submission in tqdm(submissions):\n",
    "        all_comments = submission.comments\n",
    "        submissions_data.append([submission,all_comments])\n",
    "        \n",
    "    print(\"Comments done for \",year)\n",
    "    \n",
    "    # combine the submission and comment with all the meta data\n",
    "    data = []\n",
    "    for s,c in submissions_data:\n",
    "        try:\n",
    "            for each in c:\n",
    "                data.append([s.id,s.title,s.author,each.id,each.body,each.author,each.ups,each.depth])\n",
    "        except:\n",
    "            print(s.title)\n",
    "            continue\n",
    "\n",
    "    print(\"Comments are \",year,\" :\",len(data))\n",
    "    d = pd.DataFrame(data,columns=[\"statement_id\",\"statement\",\"statement_author\",\"arguement_id\",\"argument\",\"argument_author\",\"upvotes\",\"depth\"])\n",
    "\n",
    "    # Save the data into csv format\n",
    "    d.to_csv('data/data_'+str(year)+'_'+str(month)+'.csv')\n",
    "    \n",
    "    print(\"Data Saving done for \",year)"
   ]
  },
  {
   "cell_type": "code",
   "execution_count": null,
   "metadata": {},
   "outputs": [
    {
     "name": "stderr",
     "output_type": "stream",
     "text": [
      "Version 7.5.0 of praw is outdated. Version 7.6.0 was released Tuesday May 10, 2022.Version 7.5.0 of praw is outdated. Version 7.6.0 was released Tuesday May 10, 2022.Version 7.5.0 of praw is outdated. Version 7.6.0 was released Tuesday May 10, 2022.Version 7.5.0 of praw is outdated. Version 7.6.0 was released Tuesday May 10, 2022.Version 7.5.0 of praw is outdated. Version 7.6.0 was released Tuesday May 10, 2022.Version 7.5.0 of praw is outdated. Version 7.6.0 was released Tuesday May 10, 2022.\n",
      "\n",
      "Version 7.5.0 of praw is outdated. Version 7.6.0 was released Tuesday May 10, 2022.\n",
      "\n",
      "Version 7.5.0 of praw is outdated. Version 7.6.0 was released Tuesday May 10, 2022.\n",
      "\n",
      "Version 7.5.0 of praw is outdated. Version 7.6.0 was released Tuesday May 10, 2022.Version 7.5.0 of praw is outdated. Version 7.6.0 was released Tuesday May 10, 2022.\n",
      "\n",
      "Version 7.5.0 of praw is outdated. Version 7.6.0 was released Tuesday May 10, 2022.\n",
      "Version 7.5.0 of praw is outdated. Version 7.6.0 was released Tuesday May 10, 2022.\n",
      "\n",
      "Version 7.5.0 of praw is outdated. Version 7.6.0 was released Tuesday May 10, 2022.\n",
      "\n",
      "Version 7.5.0 of praw is outdated. Version 7.6.0 was released Tuesday May 10, 2022.Version 7.5.0 of praw is outdated. Version 7.6.0 was released Tuesday May 10, 2022.\n",
      "\n",
      "Version 7.5.0 of praw is outdated. Version 7.6.0 was released Tuesday May 10, 2022.Version 7.5.0 of praw is outdated. Version 7.6.0 was released Tuesday May 10, 2022.\n",
      "Version 7.5.0 of praw is outdated. Version 7.6.0 was released Tuesday May 10, 2022.\n",
      "Version 7.5.0 of praw is outdated. Version 7.6.0 was released Tuesday May 10, 2022.Version 7.5.0 of praw is outdated. Version 7.6.0 was released Tuesday May 10, 2022.\n",
      "Version 7.5.0 of praw is outdated. Version 7.6.0 was released Tuesday May 10, 2022.\n",
      "\n",
      "\n",
      "Version 7.5.0 of praw is outdated. Version 7.6.0 was released Tuesday May 10, 2022.Version 7.5.0 of praw is outdated. Version 7.6.0 was released Tuesday May 10, 2022.\n",
      "Version 7.5.0 of praw is outdated. Version 7.6.0 was released Tuesday May 10, 2022.\n",
      "\n",
      "Version 7.5.0 of praw is outdated. Version 7.6.0 was released Tuesday May 10, 2022.\n",
      "Version 7.5.0 of praw is outdated. Version 7.6.0 was released Tuesday May 10, 2022.Version 7.5.0 of praw is outdated. Version 7.6.0 was released Tuesday May 10, 2022.\n",
      "\n",
      "Version 7.5.0 of praw is outdated. Version 7.6.0 was released Tuesday May 10, 2022.\n",
      "/gpfs/fs1/home/j/jcaunedo/umar1/nlp/lib64/python3.6/site-packages/psaw/PushshiftAPI.py:192: UserWarning: Got non 200 code 429\n",
      "  warnings.warn(\"Got non 200 code %s\" % response.status_code)\n",
      "/gpfs/fs1/home/j/jcaunedo/umar1/nlp/lib64/python3.6/site-packages/psaw/PushshiftAPI.py:180: UserWarning: Unable to connect to pushshift.io. Retrying after backoff.\n",
      "  warnings.warn(\"Unable to connect to pushshift.io. Retrying after backoff.\")\n",
      "/gpfs/fs1/home/j/jcaunedo/umar1/nlp/lib64/python3.6/site-packages/psaw/PushshiftAPI.py:192: UserWarning: Got non 200 code 429\n",
      "  warnings.warn(\"Got non 200 code %s\" % response.status_code)\n",
      "/gpfs/fs1/home/j/jcaunedo/umar1/nlp/lib64/python3.6/site-packages/psaw/PushshiftAPI.py:180: UserWarning: Unable to connect to pushshift.io. Retrying after backoff.\n",
      "  warnings.warn(\"Unable to connect to pushshift.io. Retrying after backoff.\")\n",
      "/gpfs/fs1/home/j/jcaunedo/umar1/nlp/lib64/python3.6/site-packages/psaw/PushshiftAPI.py:192: UserWarning: Got non 200 code 429\n",
      "  warnings.warn(\"Got non 200 code %s\" % response.status_code)\n",
      "/gpfs/fs1/home/j/jcaunedo/umar1/nlp/lib64/python3.6/site-packages/psaw/PushshiftAPI.py:180: UserWarning: Unable to connect to pushshift.io. Retrying after backoff.\n",
      "  warnings.warn(\"Unable to connect to pushshift.io. Retrying after backoff.\")\n",
      "/gpfs/fs1/home/j/jcaunedo/umar1/nlp/lib64/python3.6/site-packages/psaw/PushshiftAPI.py:192: UserWarning: Got non 200 code 429\n",
      "  warnings.warn(\"Got non 200 code %s\" % response.status_code)\n",
      "/gpfs/fs1/home/j/jcaunedo/umar1/nlp/lib64/python3.6/site-packages/psaw/PushshiftAPI.py:180: UserWarning: Unable to connect to pushshift.io. Retrying after backoff.\n",
      "  warnings.warn(\"Unable to connect to pushshift.io. Retrying after backoff.\")\n",
      "/gpfs/fs1/home/j/jcaunedo/umar1/nlp/lib64/python3.6/site-packages/psaw/PushshiftAPI.py:192: UserWarning: Got non 200 code 429\n",
      "  warnings.warn(\"Got non 200 code %s\" % response.status_code)\n",
      "/gpfs/fs1/home/j/jcaunedo/umar1/nlp/lib64/python3.6/site-packages/psaw/PushshiftAPI.py:180: UserWarning: Unable to connect to pushshift.io. Retrying after backoff.\n",
      "  warnings.warn(\"Unable to connect to pushshift.io. Retrying after backoff.\")\n",
      "/gpfs/fs1/home/j/jcaunedo/umar1/nlp/lib64/python3.6/site-packages/psaw/PushshiftAPI.py:192: UserWarning: Got non 200 code 429\n",
      "  warnings.warn(\"Got non 200 code %s\" % response.status_code)\n",
      "/gpfs/fs1/home/j/jcaunedo/umar1/nlp/lib64/python3.6/site-packages/psaw/PushshiftAPI.py:180: UserWarning: Unable to connect to pushshift.io. Retrying after backoff.\n",
      "  warnings.warn(\"Unable to connect to pushshift.io. Retrying after backoff.\")\n",
      "/gpfs/fs1/home/j/jcaunedo/umar1/nlp/lib64/python3.6/site-packages/psaw/PushshiftAPI.py:192: UserWarning: Got non 200 code 429\n",
      "  warnings.warn(\"Got non 200 code %s\" % response.status_code)\n",
      "/gpfs/fs1/home/j/jcaunedo/umar1/nlp/lib64/python3.6/site-packages/psaw/PushshiftAPI.py:180: UserWarning: Unable to connect to pushshift.io. Retrying after backoff.\n",
      "  warnings.warn(\"Unable to connect to pushshift.io. Retrying after backoff.\")\n",
      "/gpfs/fs1/home/j/jcaunedo/umar1/nlp/lib64/python3.6/site-packages/psaw/PushshiftAPI.py:192: UserWarning: Got non 200 code 429\n",
      "  warnings.warn(\"Got non 200 code %s\" % response.status_code)\n",
      "/gpfs/fs1/home/j/jcaunedo/umar1/nlp/lib64/python3.6/site-packages/psaw/PushshiftAPI.py:180: UserWarning: Unable to connect to pushshift.io. Retrying after backoff.\n",
      "  warnings.warn(\"Unable to connect to pushshift.io. Retrying after backoff.\")\n",
      "/gpfs/fs1/home/j/jcaunedo/umar1/nlp/lib64/python3.6/site-packages/psaw/PushshiftAPI.py:192: UserWarning: Got non 200 code 429\n",
      "  warnings.warn(\"Got non 200 code %s\" % response.status_code)\n",
      "/gpfs/fs1/home/j/jcaunedo/umar1/nlp/lib64/python3.6/site-packages/psaw/PushshiftAPI.py:180: UserWarning: Unable to connect to pushshift.io. Retrying after backoff.\n",
      "  warnings.warn(\"Unable to connect to pushshift.io. Retrying after backoff.\")\n",
      "/gpfs/fs1/home/j/jcaunedo/umar1/nlp/lib64/python3.6/site-packages/psaw/PushshiftAPI.py:192: UserWarning: Got non 200 code 429\n",
      "  warnings.warn(\"Got non 200 code %s\" % response.status_code)\n",
      "/gpfs/fs1/home/j/jcaunedo/umar1/nlp/lib64/python3.6/site-packages/psaw/PushshiftAPI.py:180: UserWarning: Unable to connect to pushshift.io. Retrying after backoff.\n",
      "  warnings.warn(\"Unable to connect to pushshift.io. Retrying after backoff.\")\n",
      "/gpfs/fs1/home/j/jcaunedo/umar1/nlp/lib64/python3.6/site-packages/psaw/PushshiftAPI.py:192: UserWarning: Got non 200 code 429\n",
      "  warnings.warn(\"Got non 200 code %s\" % response.status_code)\n",
      "/gpfs/fs1/home/j/jcaunedo/umar1/nlp/lib64/python3.6/site-packages/psaw/PushshiftAPI.py:192: UserWarning: Got non 200 code 429\n",
      "  warnings.warn(\"Got non 200 code %s\" % response.status_code)\n",
      "/gpfs/fs1/home/j/jcaunedo/umar1/nlp/lib64/python3.6/site-packages/psaw/PushshiftAPI.py:180: UserWarning: Unable to connect to pushshift.io. Retrying after backoff.\n",
      "  warnings.warn(\"Unable to connect to pushshift.io. Retrying after backoff.\")\n",
      "/gpfs/fs1/home/j/jcaunedo/umar1/nlp/lib64/python3.6/site-packages/psaw/PushshiftAPI.py:180: UserWarning: Unable to connect to pushshift.io. Retrying after backoff.\n",
      "  warnings.warn(\"Unable to connect to pushshift.io. Retrying after backoff.\")\n",
      "/gpfs/fs1/home/j/jcaunedo/umar1/nlp/lib64/python3.6/site-packages/psaw/PushshiftAPI.py:192: UserWarning: Got non 200 code 429\n",
      "  warnings.warn(\"Got non 200 code %s\" % response.status_code)\n",
      "/gpfs/fs1/home/j/jcaunedo/umar1/nlp/lib64/python3.6/site-packages/psaw/PushshiftAPI.py:180: UserWarning: Unable to connect to pushshift.io. Retrying after backoff.\n",
      "  warnings.warn(\"Unable to connect to pushshift.io. Retrying after backoff.\")\n",
      "/gpfs/fs1/home/j/jcaunedo/umar1/nlp/lib64/python3.6/site-packages/psaw/PushshiftAPI.py:192: UserWarning: Got non 200 code 429\n",
      "  warnings.warn(\"Got non 200 code %s\" % response.status_code)\n",
      "/gpfs/fs1/home/j/jcaunedo/umar1/nlp/lib64/python3.6/site-packages/psaw/PushshiftAPI.py:180: UserWarning: Unable to connect to pushshift.io. Retrying after backoff.\n",
      "  warnings.warn(\"Unable to connect to pushshift.io. Retrying after backoff.\")\n",
      "/gpfs/fs1/home/j/jcaunedo/umar1/nlp/lib64/python3.6/site-packages/psaw/PushshiftAPI.py:192: UserWarning: Got non 200 code 429\n",
      "  warnings.warn(\"Got non 200 code %s\" % response.status_code)\n",
      "/gpfs/fs1/home/j/jcaunedo/umar1/nlp/lib64/python3.6/site-packages/psaw/PushshiftAPI.py:180: UserWarning: Unable to connect to pushshift.io. Retrying after backoff.\n",
      "  warnings.warn(\"Unable to connect to pushshift.io. Retrying after backoff.\")\n",
      "/gpfs/fs1/home/j/jcaunedo/umar1/nlp/lib64/python3.6/site-packages/psaw/PushshiftAPI.py:192: UserWarning: Got non 200 code 429\n",
      "  warnings.warn(\"Got non 200 code %s\" % response.status_code)\n",
      "/gpfs/fs1/home/j/jcaunedo/umar1/nlp/lib64/python3.6/site-packages/psaw/PushshiftAPI.py:180: UserWarning: Unable to connect to pushshift.io. Retrying after backoff.\n",
      "  warnings.warn(\"Unable to connect to pushshift.io. Retrying after backoff.\")\n",
      "/gpfs/fs1/home/j/jcaunedo/umar1/nlp/lib64/python3.6/site-packages/psaw/PushshiftAPI.py:192: UserWarning: Got non 200 code 429\n",
      "  warnings.warn(\"Got non 200 code %s\" % response.status_code)\n",
      "/gpfs/fs1/home/j/jcaunedo/umar1/nlp/lib64/python3.6/site-packages/psaw/PushshiftAPI.py:180: UserWarning: Unable to connect to pushshift.io. Retrying after backoff.\n",
      "  warnings.warn(\"Unable to connect to pushshift.io. Retrying after backoff.\")\n",
      "/gpfs/fs1/home/j/jcaunedo/umar1/nlp/lib64/python3.6/site-packages/psaw/PushshiftAPI.py:192: UserWarning: Got non 200 code 429\n",
      "  warnings.warn(\"Got non 200 code %s\" % response.status_code)\n",
      "/gpfs/fs1/home/j/jcaunedo/umar1/nlp/lib64/python3.6/site-packages/psaw/PushshiftAPI.py:192: UserWarning: Got non 200 code 429\n",
      "  warnings.warn(\"Got non 200 code %s\" % response.status_code)\n",
      "/gpfs/fs1/home/j/jcaunedo/umar1/nlp/lib64/python3.6/site-packages/psaw/PushshiftAPI.py:180: UserWarning: Unable to connect to pushshift.io. Retrying after backoff.\n",
      "  warnings.warn(\"Unable to connect to pushshift.io. Retrying after backoff.\")\n",
      "/gpfs/fs1/home/j/jcaunedo/umar1/nlp/lib64/python3.6/site-packages/psaw/PushshiftAPI.py:180: UserWarning: Unable to connect to pushshift.io. Retrying after backoff.\n",
      "  warnings.warn(\"Unable to connect to pushshift.io. Retrying after backoff.\")\n",
      "/gpfs/fs1/home/j/jcaunedo/umar1/nlp/lib64/python3.6/site-packages/psaw/PushshiftAPI.py:192: UserWarning: Got non 200 code 429\n",
      "  warnings.warn(\"Got non 200 code %s\" % response.status_code)\n",
      "/gpfs/fs1/home/j/jcaunedo/umar1/nlp/lib64/python3.6/site-packages/psaw/PushshiftAPI.py:180: UserWarning: Unable to connect to pushshift.io. Retrying after backoff.\n",
      "  warnings.warn(\"Unable to connect to pushshift.io. Retrying after backoff.\")\n",
      "/gpfs/fs1/home/j/jcaunedo/umar1/nlp/lib64/python3.6/site-packages/psaw/PushshiftAPI.py:192: UserWarning: Got non 200 code 429\n",
      "  warnings.warn(\"Got non 200 code %s\" % response.status_code)\n",
      "/gpfs/fs1/home/j/jcaunedo/umar1/nlp/lib64/python3.6/site-packages/psaw/PushshiftAPI.py:180: UserWarning: Unable to connect to pushshift.io. Retrying after backoff.\n",
      "  warnings.warn(\"Unable to connect to pushshift.io. Retrying after backoff.\")\n",
      "/gpfs/fs1/home/j/jcaunedo/umar1/nlp/lib64/python3.6/site-packages/psaw/PushshiftAPI.py:192: UserWarning: Got non 200 code 429\n",
      "  warnings.warn(\"Got non 200 code %s\" % response.status_code)\n",
      "/gpfs/fs1/home/j/jcaunedo/umar1/nlp/lib64/python3.6/site-packages/psaw/PushshiftAPI.py:192: UserWarning: Got non 200 code 429\n",
      "  warnings.warn(\"Got non 200 code %s\" % response.status_code)\n",
      "/gpfs/fs1/home/j/jcaunedo/umar1/nlp/lib64/python3.6/site-packages/psaw/PushshiftAPI.py:180: UserWarning: Unable to connect to pushshift.io. Retrying after backoff.\n",
      "  warnings.warn(\"Unable to connect to pushshift.io. Retrying after backoff.\")\n",
      "/gpfs/fs1/home/j/jcaunedo/umar1/nlp/lib64/python3.6/site-packages/psaw/PushshiftAPI.py:180: UserWarning: Unable to connect to pushshift.io. Retrying after backoff.\n",
      "  warnings.warn(\"Unable to connect to pushshift.io. Retrying after backoff.\")\n",
      "/gpfs/fs1/home/j/jcaunedo/umar1/nlp/lib64/python3.6/site-packages/psaw/PushshiftAPI.py:192: UserWarning: Got non 200 code 429\n",
      "  warnings.warn(\"Got non 200 code %s\" % response.status_code)\n",
      "/gpfs/fs1/home/j/jcaunedo/umar1/nlp/lib64/python3.6/site-packages/psaw/PushshiftAPI.py:180: UserWarning: Unable to connect to pushshift.io. Retrying after backoff.\n",
      "  warnings.warn(\"Unable to connect to pushshift.io. Retrying after backoff.\")\n",
      "/gpfs/fs1/home/j/jcaunedo/umar1/nlp/lib64/python3.6/site-packages/psaw/PushshiftAPI.py:192: UserWarning: Got non 200 code 429\n",
      "  warnings.warn(\"Got non 200 code %s\" % response.status_code)\n",
      "/gpfs/fs1/home/j/jcaunedo/umar1/nlp/lib64/python3.6/site-packages/psaw/PushshiftAPI.py:180: UserWarning: Unable to connect to pushshift.io. Retrying after backoff.\n",
      "  warnings.warn(\"Unable to connect to pushshift.io. Retrying after backoff.\")\n",
      "/gpfs/fs1/home/j/jcaunedo/umar1/nlp/lib64/python3.6/site-packages/psaw/PushshiftAPI.py:192: UserWarning: Got non 200 code 429\n",
      "  warnings.warn(\"Got non 200 code %s\" % response.status_code)\n",
      "/gpfs/fs1/home/j/jcaunedo/umar1/nlp/lib64/python3.6/site-packages/psaw/PushshiftAPI.py:180: UserWarning: Unable to connect to pushshift.io. Retrying after backoff.\n",
      "  warnings.warn(\"Unable to connect to pushshift.io. Retrying after backoff.\")\n",
      "/gpfs/fs1/home/j/jcaunedo/umar1/nlp/lib64/python3.6/site-packages/psaw/PushshiftAPI.py:192: UserWarning: Got non 200 code 429\n",
      "  warnings.warn(\"Got non 200 code %s\" % response.status_code)\n",
      "/gpfs/fs1/home/j/jcaunedo/umar1/nlp/lib64/python3.6/site-packages/psaw/PushshiftAPI.py:180: UserWarning: Unable to connect to pushshift.io. Retrying after backoff.\n",
      "  warnings.warn(\"Unable to connect to pushshift.io. Retrying after backoff.\")\n",
      "/gpfs/fs1/home/j/jcaunedo/umar1/nlp/lib64/python3.6/site-packages/psaw/PushshiftAPI.py:192: UserWarning: Got non 200 code 429\n",
      "  warnings.warn(\"Got non 200 code %s\" % response.status_code)\n",
      "/gpfs/fs1/home/j/jcaunedo/umar1/nlp/lib64/python3.6/site-packages/psaw/PushshiftAPI.py:180: UserWarning: Unable to connect to pushshift.io. Retrying after backoff.\n",
      "  warnings.warn(\"Unable to connect to pushshift.io. Retrying after backoff.\")\n",
      "/gpfs/fs1/home/j/jcaunedo/umar1/nlp/lib64/python3.6/site-packages/psaw/PushshiftAPI.py:252: UserWarning: Not all PushShift shards are active. Query results may be incomplete\n",
      "  warnings.warn(shards_down_message)\n",
      "/gpfs/fs1/home/j/jcaunedo/umar1/nlp/lib64/python3.6/site-packages/psaw/PushshiftAPI.py:252: UserWarning: Not all PushShift shards are active. Query results may be incomplete\n",
      "  warnings.warn(shards_down_message)\n",
      "/gpfs/fs1/home/j/jcaunedo/umar1/nlp/lib64/python3.6/site-packages/psaw/PushshiftAPI.py:252: UserWarning: Not all PushShift shards are active. Query results may be incomplete\n",
      "  warnings.warn(shards_down_message)\n"
     ]
    },
    {
     "name": "stdout",
     "output_type": "stream",
     "text": [
      "Submissions done for  2022  len is  1913\n"
     ]
    },
    {
     "name": "stderr",
     "output_type": "stream",
     "text": [
      "  0%|          | 6/1913 [00:52<5:04:07,  9.57s/it]"
     ]
    },
    {
     "name": "stdout",
     "output_type": "stream",
     "text": [
      "Submissions done for  2022  len is  1632\n"
     ]
    },
    {
     "name": "stderr",
     "output_type": "stream",
     "text": [
      "  0%|          | 7/1913 [01:02<5:09:50,  9.75s/it]"
     ]
    },
    {
     "name": "stdout",
     "output_type": "stream",
     "text": [
      "Submissions done for  2022  len is  1629\n"
     ]
    },
    {
     "name": "stderr",
     "output_type": "stream",
     "text": [
      "  0%|          | 1/1629 [00:00<12:06,  2.24it/s]"
     ]
    },
    {
     "name": "stdout",
     "output_type": "stream",
     "text": [
      "Submissions done for  2022  len is  1925\n"
     ]
    },
    {
     "name": "stderr",
     "output_type": "stream",
     "text": [
      "  0%|          | 4/1629 [00:30<3:58:45,  8.82s/it]]"
     ]
    },
    {
     "name": "stdout",
     "output_type": "stream",
     "text": [
      "Submissions done for  2022  len is  1902\n"
     ]
    },
    {
     "name": "stderr",
     "output_type": "stream",
     "text": [
      "  0%|          | 6/1632 [00:59<4:38:46, 10.29s/it]]/gpfs/fs1/home/j/jcaunedo/umar1/nlp/lib64/python3.6/site-packages/psaw/PushshiftAPI.py:252: UserWarning: Not all PushShift shards are active. Query results may be incomplete\n",
      "  warnings.warn(shards_down_message)\n",
      "  0%|          | 4/1902 [00:41<5:32:27, 10.51s/it]]"
     ]
    },
    {
     "name": "stdout",
     "output_type": "stream",
     "text": [
      "Submissions done for  2020  len is  3052\n"
     ]
    },
    {
     "name": "stderr",
     "output_type": "stream",
     "text": [
      "  0%|          | 6/1902 [01:02<5:26:56, 10.35s/it]]"
     ]
    },
    {
     "name": "stdout",
     "output_type": "stream",
     "text": [
      "Submissions done for  2022  len is  1870\n"
     ]
    },
    {
     "name": "stderr",
     "output_type": "stream",
     "text": [
      "  0%|          | 6/3052 [01:01<8:43:35, 10.31s/it]]"
     ]
    },
    {
     "name": "stdout",
     "output_type": "stream",
     "text": [
      "Submissions done for  2022  len is  2175\n"
     ]
    },
    {
     "name": "stderr",
     "output_type": "stream",
     "text": [
      "  1%|          | 22/1913 [03:36<5:21:17, 10.19s/it]/gpfs/fs1/home/j/jcaunedo/umar1/nlp/lib64/python3.6/site-packages/psaw/PushshiftAPI.py:252: UserWarning: Not all PushShift shards are active. Query results may be incomplete\n",
      "  warnings.warn(shards_down_message)\n",
      "  1%|          | 12/1870 [04:54<24:01:07, 46.54s/it]"
     ]
    },
    {
     "name": "stdout",
     "output_type": "stream",
     "text": [
      "Submissions done for  2021  len is  2969\n"
     ]
    },
    {
     "name": "stderr",
     "output_type": "stream",
     "text": [
      "  2%|▏         | 29/1913 [07:48<18:59:57, 36.30s/it]"
     ]
    },
    {
     "name": "stdout",
     "output_type": "stream",
     "text": [
      "Submissions done for  2021  len is  2815\n"
     ]
    },
    {
     "name": "stderr",
     "output_type": "stream",
     "text": [
      "  0%|          | 0/2815 [00:00<?, ?it/s]"
     ]
    },
    {
     "name": "stdout",
     "output_type": "stream",
     "text": [
      "Submissions done for  2021  len is  2097\n"
     ]
    },
    {
     "name": "stderr",
     "output_type": "stream",
     "text": [
      "  0%|          | 1/2815 [00:09<7:45:54,  9.93s/it]t]"
     ]
    },
    {
     "name": "stdout",
     "output_type": "stream",
     "text": [
      "Submissions done for  2021  len is  2939\n"
     ]
    },
    {
     "name": "stderr",
     "output_type": "stream",
     "text": [
      "  0%|          | 5/2815 [00:51<8:00:40, 10.26s/it]]]"
     ]
    },
    {
     "name": "stdout",
     "output_type": "stream",
     "text": [
      "Submissions done for  2021  len is  2369\n"
     ]
    },
    {
     "name": "stderr",
     "output_type": "stream",
     "text": [
      "  1%|          | 14/2175 [05:17<7:53:30, 13.15s/it]"
     ]
    },
    {
     "name": "stdout",
     "output_type": "stream",
     "text": [
      "Submissions done for  2020  len is  2923\n"
     ]
    },
    {
     "name": "stderr",
     "output_type": "stream",
     "text": [
      "  2%|▏         | 28/1632 [07:50<6:35:17, 14.79s/it]"
     ]
    },
    {
     "name": "stdout",
     "output_type": "stream",
     "text": [
      "Submissions done for  2020  len is  2939\n"
     ]
    },
    {
     "name": "stderr",
     "output_type": "stream",
     "text": [
      "  2%|▏         | 30/1629 [07:52<5:29:17, 12.36s/it]]"
     ]
    },
    {
     "name": "stdout",
     "output_type": "stream",
     "text": [
      "Submissions done for  2022  len is  1924\n"
     ]
    },
    {
     "name": "stderr",
     "output_type": "stream",
     "text": [
      "  0%|          | 2/1924 [00:19<5:20:39, 10.01s/it]] "
     ]
    },
    {
     "name": "stdout",
     "output_type": "stream",
     "text": [
      "Submissions done for  2020  len is  3263\n"
     ]
    },
    {
     "name": "stderr",
     "output_type": "stream",
     "text": [
      "  2%|▏         | 34/1632 [08:51<4:45:18, 10.71s/it]"
     ]
    },
    {
     "name": "stdout",
     "output_type": "stream",
     "text": [
      "Submissions done for  2022  len is  2136\n"
     ]
    },
    {
     "name": "stderr",
     "output_type": "stream",
     "text": [
      "  1%|          | 24/2175 [07:00<6:11:36, 10.37s/it]"
     ]
    },
    {
     "name": "stdout",
     "output_type": "stream",
     "text": [
      "Submissions done for  2021  len is  2729\n"
     ]
    },
    {
     "name": "stderr",
     "output_type": "stream",
     "text": [
      "  2%|▏         | 39/1925 [09:42<5:59:08, 11.43s/it]"
     ]
    },
    {
     "name": "stdout",
     "output_type": "stream",
     "text": [
      "Submissions done for  2020  len is  2919\n"
     ]
    },
    {
     "name": "stderr",
     "output_type": "stream",
     "text": [
      "  1%|▏         | 30/2175 [08:01<6:05:22, 10.22s/it]"
     ]
    },
    {
     "name": "stdout",
     "output_type": "stream",
     "text": [
      "Submissions done for  2020  len is  2290\n"
     ]
    },
    {
     "name": "stderr",
     "output_type": "stream",
     "text": [
      "  1%|          | 21/2939 [03:34<8:13:32, 10.15s/it]"
     ]
    },
    {
     "name": "stdout",
     "output_type": "stream",
     "text": [
      "Submissions done for  2021  len is  2797\n"
     ]
    },
    {
     "name": "stderr",
     "output_type": "stream",
     "text": [
      "  1%|          | 30/2923 [10:24<10:33:38, 13.14s/it] "
     ]
    },
    {
     "name": "stdout",
     "output_type": "stream",
     "text": [
      "Submissions done for  2021  len is  3409\n"
     ]
    },
    {
     "name": "stderr",
     "output_type": "stream",
     "text": [
      "  6%|▌         | 123/2136 [42:16<5:58:42, 10.69s/it]  "
     ]
    }
   ],
   "source": [
    "# iterate through every year and month to create a to do list\n",
    "\n",
    "times = []\n",
    "for i in range(2014,2023):\n",
    "    for j in range(1,13):\n",
    "        times.append([i,j])\n",
    "        \n",
    "# use multiprocessing to extract simultaneously with 40 processes \n",
    "pool = Pool(processes=40)\n",
    "\n",
    "pool.map(extract,times)"
   ]
  }
 ],
 "metadata": {
  "kernelspec": {
   "display_name": "nlp",
   "language": "python",
   "name": "nlp"
  },
  "language_info": {
   "codemirror_mode": {
    "name": "ipython",
    "version": 3
   },
   "file_extension": ".py",
   "mimetype": "text/x-python",
   "name": "python",
   "nbconvert_exporter": "python",
   "pygments_lexer": "ipython3",
   "version": "3.6.8"
  }
 },
 "nbformat": 4,
 "nbformat_minor": 4
}
