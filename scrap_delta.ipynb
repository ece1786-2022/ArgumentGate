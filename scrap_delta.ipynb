{
 "cells": [
  {
   "cell_type": "code",
   "execution_count": 43,
   "metadata": {},
   "outputs": [],
   "source": [
    "import praw\n",
    "import pandas as pd\n",
    "from tqdm import tqdm\n",
    "import re\n",
    "from bs4 import BeautifulSoup"
   ]
  },
  {
   "cell_type": "markdown",
   "metadata": {},
   "source": [
    "Create a reddit instance to scrap data"
   ]
  },
  {
   "cell_type": "code",
   "execution_count": 2,
   "metadata": {},
   "outputs": [
    {
     "name": "stderr",
     "output_type": "stream",
     "text": [
      "Version 7.5.0 of praw is outdated. Version 7.6.0 was released Tuesday May 10, 2022.\n"
     ]
    }
   ],
   "source": [
    "reddit = praw.Reddit(\n",
    "    client_id=\"lvMebPoBq4Am77B71uC3Pw\",\n",
    "    client_secret=\"_vZg-umYkXpIRZoI_klQP3eYHDqOVA\",\n",
    "    password=\"argumentgate\",\n",
    "    user_agent=\"testscript by u/fakebot3\",\n",
    "    username=\"SaanJatt1\",\n",
    ")"
   ]
  },
  {
   "cell_type": "code",
   "execution_count": 3,
   "metadata": {},
   "outputs": [
    {
     "name": "stdout",
     "output_type": "stream",
     "text": [
      "SaanJatt1\n"
     ]
    }
   ],
   "source": [
    "print(reddit.user.me())"
   ]
  },
  {
   "cell_type": "markdown",
   "metadata": {},
   "source": [
    "Get all the submissions since the 2005 from DeltaLog reddit "
   ]
  },
  {
   "cell_type": "code",
   "execution_count": 4,
   "metadata": {},
   "outputs": [
    {
     "name": "stderr",
     "output_type": "stream",
     "text": [
      "/gpfs/fs1/home/j/jcaunedo/umar1/nlp/lib64/python3.6/site-packages/psaw/PushshiftAPI.py:252: UserWarning: Not all PushShift shards are active. Query results may be incomplete\n",
      "  warnings.warn(shards_down_message)\n"
     ]
    }
   ],
   "source": [
    "import datetime as dt\n",
    "import praw\n",
    "from psaw import PushshiftAPI\n",
    "\n",
    "api = PushshiftAPI(reddit)\n",
    "\n",
    "start_epoch=int(dt.datetime(2005, 1, 1).timestamp()) # Could be any date\n",
    "\n",
    "submissions_generator = api.search_submissions(after=start_epoch, subreddit='DeltaLog', limit=100000) # Returns a generator object\n",
    "submissions = list(submissions_generator) # You can then use this, store it in mongoDB, etc."
   ]
  },
  {
   "cell_type": "markdown",
   "metadata": {},
   "source": [
    "Get all the submission and delta data"
   ]
  },
  {
   "cell_type": "code",
   "execution_count": 69,
   "metadata": {},
   "outputs": [
    {
     "name": "stderr",
     "output_type": "stream",
     "text": [
      "100%|██████████| 33657/33657 [00:40<00:00, 832.90it/s]\n"
     ]
    }
   ],
   "source": [
    "delta_data = []\n",
    "for sub in tqdm(submissions):\n",
    "    \n",
    "    try:\n",
    "        # Raw html text of submission\n",
    "        text = sub.selftext_html\n",
    "\n",
    "        soup = BeautifulSoup(text,'html.parser')\n",
    "        \n",
    "        # Find statement id\n",
    "        state_id = soup.find('a')['href'].replace(\"/r/changemyview/comments/\",\"\").split('/')[0]\n",
    "        \n",
    "        for each in soup.find_all('li'):\n",
    "            \n",
    "            # get delta description and add it to data\n",
    "            \n",
    "            desc = each.find_all('a')[1].text\n",
    "            delta_data.append([state_id,desc])\n",
    "    except:\n",
    "        continue"
   ]
  },
  {
   "cell_type": "code",
   "execution_count": 72,
   "metadata": {},
   "outputs": [],
   "source": [
    "# Save the data as a csv file\n",
    "\n",
    "delta_data = pd.DataFrame(delta_data,columns=[\"statement_id\",\"arguement\"])\n",
    "\n",
    "delta_data[\"delta\"] = 1\n",
    "\n",
    "delta_data.to_csv('delta.csv')"
   ]
  }
 ],
 "metadata": {
  "kernelspec": {
   "display_name": "nlp",
   "language": "python",
   "name": "nlp"
  },
  "language_info": {
   "codemirror_mode": {
    "name": "ipython",
    "version": 3
   },
   "file_extension": ".py",
   "mimetype": "text/x-python",
   "name": "python",
   "nbconvert_exporter": "python",
   "pygments_lexer": "ipython3",
   "version": "3.6.8"
  }
 },
 "nbformat": 4,
 "nbformat_minor": 4
}
